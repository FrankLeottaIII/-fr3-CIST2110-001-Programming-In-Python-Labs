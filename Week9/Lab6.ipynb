{
 "cells": [
  {
   "cell_type": "markdown",
   "metadata": {},
   "source": [
    "# Python Lists, and API's\n",
    "### Name:\n",
    "### Lab: 6\n",
    "\n",
    "Todays Lab will be going over python lists, tuples, and using some api's\n",
    "to get data from the internet. We will be using the requests library to\n",
    "get data from the internet. We will also be using the json library to\n",
    "parse the data we get from the internet."
   ]
  },
  {
   "cell_type": "code",
   "execution_count": 1,
   "metadata": {},
   "outputs": [],
   "source": [
    "# Creating Lists and Tuples\n",
    "\n",
    "# Create a list named fruits with the following elements: \"apple\", \"banana\", \"cherry\".\n",
    "fruits = [\"apple\", \"banana\", \"cherry\"]\n",
    "# Create a tuple named coordinates with three numbers representing a point in 3D space.\n",
    "coordinates = (1, 2, 3)"
   ]
  },
  {
   "cell_type": "code",
   "execution_count": 2,
   "metadata": {},
   "outputs": [
    {
     "name": "stdout",
     "output_type": "stream",
     "text": [
      "banana\n",
      "3\n"
     ]
    }
   ],
   "source": [
    "# Accessing Elements\n",
    "\n",
    "# Print the second element of the fruits list.\n",
    "print(fruits[1])\n",
    "# Print the last element of the coordinates tuple.\n",
    "print(coordinates[-1])"
   ]
  },
  {
   "cell_type": "code",
   "execution_count": 3,
   "metadata": {},
   "outputs": [
    {
     "name": "stdout",
     "output_type": "stream",
     "text": [
      "['strawberry', 'apple', 'cherry', 'orange']\n"
     ]
    }
   ],
   "source": [
    "# Modifying lists\n",
    "\n",
    "# import gc  \n",
    "# gc.collect() \n",
    "# garbage collector... it didn't work, the cell is still just inserting blueberry over and over again. so annoying\n",
    "# Just need to restart then run all every time i want to run these cells more than once\n",
    "\n",
    "# # Add \"orange\" to the end of the fruits list.\n",
    "fruits.append(\"orange\")\n",
    "# Insert \"blueberry\" at the beginning of the fruits list.\n",
    "fruits.insert(0, \"blueberry\")\n",
    "#  Remove \"banana\" from the fruits list.\n",
    "fruits.remove(\"banana\")\n",
    "# Change the first element of the fruits list to \"strawberry\".\n",
    "fruits[0] = \"strawberry\"\n",
    "print(fruits) #to show the change"
   ]
  },
  {
   "cell_type": "code",
   "execution_count": 4,
   "metadata": {},
   "outputs": [
    {
     "name": "stdout",
     "output_type": "stream",
     "text": [
      "['cherry', 'orange']\n"
     ]
    }
   ],
   "source": [
    "# List Slicing\n",
    "\n",
    "# Create a new list berries that contains only the \"blueberry\" and \"strawberry\" from the fruits list.\n",
    "berries = fruits[0:2]\n",
    "# Print the last two elements of the fruits list using negative indexing.\n",
    "print(fruits[-2:])"
   ]
  },
  {
   "cell_type": "code",
   "execution_count": 5,
   "metadata": {},
   "outputs": [
    {
     "name": "stdout",
     "output_type": "stream",
     "text": [
      "['strawberry', 'cherry', 'orange']\n",
      "['STRAWBERRY', 'APPLE', 'CHERRY', 'ORANGE']\n"
     ]
    }
   ],
   "source": [
    "# List Comprehensions\n",
    "\n",
    "# Create a new list even_fruits that contains only the fruits with an even number of characters from the fruits list.\n",
    "even_fruits = [fruit for fruit in fruits if len(fruit) % 2 == 0]\n",
    "print(even_fruits)\n",
    "# Create a new list upper_fruits that contains all the fruits from the fruits list in uppercase letters.\n",
    "upper_fruits = [fruit.upper() for fruit in fruits]\n",
    "print(upper_fruits)"
   ]
  },
  {
   "cell_type": "code",
   "execution_count": 6,
   "metadata": {},
   "outputs": [],
   "source": [
    "# Tuples and immutability\n",
    "\n",
    "# Try to change the first element of the coordinates tuple to a different number and observe what happens.\n",
    "# coordinates[0] = 5\n",
    "# TypeError: 'tuple' object does not support item assignment\n",
    "#cant do that to a touple\n",
    "\n",
    "# Try to add a new element to the coordinates tuple and observe what happens.\n",
    "# coordinates.append(4)\n",
    "# AttributeError: 'tuple' object has no attribute 'append'\n",
    "#cant do that to a touple\n",
    "\n",
    "# Create a new tuple new_coordinates that is a modified version of coordinates with the first element changed.\n",
    "new_coordinates = (5, 2, 3)"
   ]
  },
  {
   "cell_type": "code",
   "execution_count": 7,
   "metadata": {},
   "outputs": [
    {
     "name": "stdout",
     "output_type": "stream",
     "text": [
      "4\n",
      "['apple', 'cherry', 'orange', 'strawberry']\n",
      "['strawberry', 'apple', 'cherry', 'orange']\n",
      "['apple', 'cherry', 'orange', 'strawberry']\n",
      "1\n"
     ]
    }
   ],
   "source": [
    "# Built-in Functions and Methods\n",
    "\n",
    "# Use the len() function to print the length of the fruits list.\n",
    "print(len(fruits))\n",
    "# Use the sorted() function to print a sorted version of the fruits list without changing the original list.\n",
    "print(sorted(fruits))\n",
    "\"\"\" all strings are sorted alphabetically, and all numbers are sorted numerically.\"\"\"\n",
    "print(fruits) # see it didn't change the original list\n",
    "\n",
    "# Use the list.sort() method to sort the fruits list in place.\n",
    "fruits.sort()\n",
    "print(fruits) # see it did change the original list\n",
    "# Find the index of \"cherry\" in the fruits list using the list.index() method.\n",
    "fruits.index(\"cherry\")\n",
    "print(fruits.index(\"cherry\"))# to actually show the index"
   ]
  },
  {
   "cell_type": "markdown",
   "metadata": {},
   "source": [
    "# Working with API's \n",
    "\n"
   ]
  },
  {
   "cell_type": "code",
   "execution_count": 8,
   "metadata": {},
   "outputs": [],
   "source": [
    "# import the requests library to get data from the internet\n",
    "\n",
    "#pip install requests in terminal if you dont have it (its probably not there)\n",
    "# also make sure your kernel is set to your virtual environment\n",
    "import requests\n",
    "# import the json library to parse the data we get from the internet\n",
    "import json\n"
   ]
  },
  {
   "cell_type": "code",
   "execution_count": 9,
   "metadata": {},
   "outputs": [
    {
     "data": {
      "text/plain": [
       "<Response [200]>"
      ]
     },
     "execution_count": 9,
     "metadata": {},
     "output_type": "execute_result"
    }
   ],
   "source": [
    "# Use the requests library to send a GET request to the JSONPlaceholder API to retrieve a list of posts. The API endpoint is https://jsonplaceholder.typicode.com/posts.\n",
    "requests.get(\"https://jsonplaceholder.typicode.com/posts\")\n",
    "# Curl in your terminal is a good way to test if you are getting the right data... but not showing the same as lecture for some reason...\n",
    "#wget is another way to get data from the internet, but it saves it to a file "
   ]
  },
  {
   "cell_type": "code",
   "execution_count": 10,
   "metadata": {},
   "outputs": [
    {
     "ename": "NameError",
     "evalue": "name 'posts' is not defined",
     "output_type": "error",
     "traceback": [
      "\u001b[1;31m---------------------------------------------------------------------------\u001b[0m",
      "\u001b[1;31mNameError\u001b[0m                                 Traceback (most recent call last)",
      "\u001b[1;32mc:\\Users\\green\\Documents\\2023 python class\\-fr3-CIST2110-001-Programming-In-Python-Labs\\Week9\\Lab6.ipynb Cell 12\u001b[0m line \u001b[0;36m7\n\u001b[0;32m      <a href='vscode-notebook-cell:/c%3A/Users/green/Documents/2023%20python%20class/-fr3-CIST2110-001-Programming-In-Python-Labs/Week9/Lab6.ipynb#X14sZmlsZQ%3D%3D?line=2'>3</a>\u001b[0m api_data \u001b[39m=\u001b[39m requests\u001b[39m.\u001b[39mget(\u001b[39m\"\u001b[39m\u001b[39mhttps://jsonplaceholder.typicode.com/posts\u001b[39m\u001b[39m\"\u001b[39m)\n\u001b[0;32m      <a href='vscode-notebook-cell:/c%3A/Users/green/Documents/2023%20python%20class/-fr3-CIST2110-001-Programming-In-Python-Labs/Week9/Lab6.ipynb#X14sZmlsZQ%3D%3D?line=4'>5</a>\u001b[0m \u001b[39m# posts = json.loads(response.text) copilot answer.... interesting\u001b[39;00m\n\u001b[0;32m      <a href='vscode-notebook-cell:/c%3A/Users/green/Documents/2023%20python%20class/-fr3-CIST2110-001-Programming-In-Python-Labs/Week9/Lab6.ipynb#X14sZmlsZQ%3D%3D?line=5'>6</a>\u001b[0m \u001b[39m#  Print the title of the first post in the posts list.\u001b[39;00m\n\u001b[1;32m----> <a href='vscode-notebook-cell:/c%3A/Users/green/Documents/2023%20python%20class/-fr3-CIST2110-001-Programming-In-Python-Labs/Week9/Lab6.ipynb#X14sZmlsZQ%3D%3D?line=6'>7</a>\u001b[0m \u001b[39mprint\u001b[39m(posts[\u001b[39m0\u001b[39m][\u001b[39m\"\u001b[39m\u001b[39mtitle\u001b[39m\u001b[39m\"\u001b[39m])\n\u001b[0;32m      <a href='vscode-notebook-cell:/c%3A/Users/green/Documents/2023%20python%20class/-fr3-CIST2110-001-Programming-In-Python-Labs/Week9/Lab6.ipynb#X14sZmlsZQ%3D%3D?line=8'>9</a>\u001b[0m \u001b[39m# Create a list post_titles that contains the titles of all the posts.\u001b[39;00m\n\u001b[0;32m     <a href='vscode-notebook-cell:/c%3A/Users/green/Documents/2023%20python%20class/-fr3-CIST2110-001-Programming-In-Python-Labs/Week9/Lab6.ipynb#X14sZmlsZQ%3D%3D?line=9'>10</a>\u001b[0m post_titles \u001b[39m=\u001b[39m [post[\u001b[39m\"\u001b[39m\u001b[39mtitle\u001b[39m\u001b[39m\"\u001b[39m] \u001b[39mfor\u001b[39;00m post \u001b[39min\u001b[39;00m posts]\n",
      "\u001b[1;31mNameError\u001b[0m: name 'posts' is not defined"
     ]
    }
   ],
   "source": [
    "# Parse the JSON response and store it in a variable posts.\n",
    "# Note: We did not learn about JSON yet (This will be taught in more depth in our lesson on Dictionaries for now just think of it as a way to represent data.)\n",
    "api_data = requests.get(\"https://jsonplaceholder.typicode.com/posts\")\n",
    "\n",
    "# posts = json.loads(response.text) copilot answer.... interesting\n",
    "\n",
    "#convert api_data to a list of dictionaries using the json()\n",
    "api_data = api_data.json()\n",
    "\n",
    "\n",
    "#  Print the title of the first post in the posts list.\n",
    "\n",
    "title = api_data[0][\"title\"]\n",
    "\n",
    "\"\"\" a list of lists\"\"\"\n",
    "\n",
    "#printing api_data, you would need pandas to make it look nice\n",
    "\n",
    "# Create a list post_titles that contains the titles of all the posts.\n",
    "post_titles = [post[\"title\"] for post in posts]\n",
    "print(post_titles)"
   ]
  },
  {
   "cell_type": "code",
   "execution_count": null,
   "metadata": {},
   "outputs": [],
   "source": [
    "# Find the post with the longest title and print its title and body. Print the titles of the first 5 posts using slicing. \n",
    "# Note: Copilot might try to fill in a lambda function for this task. Try to solve it without using a lambda function.\n",
    "longest_title = \"\"\n",
    "longest_body = \"\"\n"
   ]
  },
  {
   "cell_type": "code",
   "execution_count": null,
   "metadata": {},
   "outputs": [],
   "source": [
    "# Create a tuple post_info that contains the userId, title, and body of the fifth post in the list.\n"
   ]
  }
 ],
 "metadata": {
  "kernelspec": {
   "display_name": "venv",
   "language": "python",
   "name": "python3"
  },
  "language_info": {
   "codemirror_mode": {
    "name": "ipython",
    "version": 3
   },
   "file_extension": ".py",
   "mimetype": "text/x-python",
   "name": "python",
   "nbconvert_exporter": "python",
   "pygments_lexer": "ipython3",
   "version": "3.12.0"
  }
 },
 "nbformat": 4,
 "nbformat_minor": 2
}

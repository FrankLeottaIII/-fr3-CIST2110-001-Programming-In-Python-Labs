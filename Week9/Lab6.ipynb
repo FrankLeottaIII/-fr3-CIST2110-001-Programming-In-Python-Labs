{
 "cells": [
  {
   "cell_type": "markdown",
   "metadata": {},
   "source": [
    "# Python Lists, and API's\n",
    "### Name:\n",
    "### Lab: 6\n",
    "\n",
    "Todays Lab will be going over python lists, tuples, and using some api's\n",
    "to get data from the internet. We will be using the requests library to\n",
    "get data from the internet. We will also be using the json library to\n",
    "parse the data we get from the internet."
   ]
  },
  {
   "cell_type": "code",
   "execution_count": 1,
   "metadata": {},
   "outputs": [],
   "source": [
    "# Creating Lists and Tuples\n",
    "\n",
    "# Create a list named fruits with the following elements: \"apple\", \"banana\", \"cherry\".\n",
    "fruits = [\"apple\", \"banana\", \"cherry\"]\n",
    "# Create a tuple named coordinates with three numbers representing a point in 3D space.\n",
    "coordinates = (1, 2, 3)"
   ]
  },
  {
   "cell_type": "code",
   "execution_count": 2,
   "metadata": {},
   "outputs": [
    {
     "name": "stdout",
     "output_type": "stream",
     "text": [
      "banana\n",
      "3\n"
     ]
    }
   ],
   "source": [
    "# Accessing Elements\n",
    "\n",
    "# Print the second element of the fruits list.\n",
    "print(fruits[1])\n",
    "# Print the last element of the coordinates tuple.\n",
    "print(coordinates[-1])"
   ]
  },
  {
   "cell_type": "code",
   "execution_count": 3,
   "metadata": {},
   "outputs": [
    {
     "name": "stdout",
     "output_type": "stream",
     "text": [
      "['strawberry', 'apple', 'cherry', 'orange']\n"
     ]
    }
   ],
   "source": [
    "# Modifying lists\n",
    "\n",
    "# import gc  \n",
    "# gc.collect() \n",
    "# garbage collector... it didn't work, the cell is still just inserting blueberry over and over again. so annoying\n",
    "# Just need to restart then run all every time i want to run these cells more than once\n",
    "\n",
    "# # Add \"orange\" to the end of the fruits list.\n",
    "fruits.append(\"orange\")\n",
    "# Insert \"blueberry\" at the beginning of the fruits list.\n",
    "fruits.insert(0, \"blueberry\")\n",
    "#  Remove \"banana\" from the fruits list.\n",
    "fruits.remove(\"banana\")\n",
    "# Change the first element of the fruits list to \"strawberry\".\n",
    "fruits[0] = \"strawberry\"\n",
    "print(fruits) #to show the change"
   ]
  },
  {
   "cell_type": "code",
   "execution_count": 4,
   "metadata": {},
   "outputs": [
    {
     "name": "stdout",
     "output_type": "stream",
     "text": [
      "['cherry', 'orange']\n"
     ]
    }
   ],
   "source": [
    "# List Slicing\n",
    "\n",
    "# Create a new list berries that contains only the \"blueberry\" and \"strawberry\" from the fruits list.\n",
    "berries = fruits[0:2]\n",
    "# Print the last two elements of the fruits list using negative indexing.\n",
    "print(fruits[-2:])"
   ]
  },
  {
   "cell_type": "code",
   "execution_count": 5,
   "metadata": {},
   "outputs": [
    {
     "name": "stdout",
     "output_type": "stream",
     "text": [
      "['strawberry', 'cherry', 'orange']\n",
      "['STRAWBERRY', 'APPLE', 'CHERRY', 'ORANGE']\n"
     ]
    }
   ],
   "source": [
    "# List Comprehensions\n",
    "\n",
    "# Create a new list even_fruits that contains only the fruits with an even number of characters from the fruits list.\n",
    "even_fruits = [fruit for fruit in fruits if len(fruit) % 2 == 0]\n",
    "print(even_fruits)\n",
    "# Create a new list upper_fruits that contains all the fruits from the fruits list in uppercase letters.\n",
    "upper_fruits = [fruit.upper() for fruit in fruits]\n",
    "print(upper_fruits)"
   ]
  },
  {
   "cell_type": "code",
   "execution_count": 6,
   "metadata": {},
   "outputs": [],
   "source": [
    "# Tuples and immutability\n",
    "\n",
    "# Try to change the first element of the coordinates tuple to a different number and observe what happens.\n",
    "# coordinates[0] = 5\n",
    "# TypeError: 'tuple' object does not support item assignment\n",
    "#cant do that to a touple\n",
    "\n",
    "# Try to add a new element to the coordinates tuple and observe what happens.\n",
    "# coordinates.append(4)\n",
    "# AttributeError: 'tuple' object has no attribute 'append'\n",
    "#cant do that to a touple\n",
    "\n",
    "# Create a new tuple new_coordinates that is a modified version of coordinates with the first element changed.\n",
    "new_coordinates = (5, 2, 3)"
   ]
  },
  {
   "cell_type": "code",
   "execution_count": 7,
   "metadata": {},
   "outputs": [
    {
     "name": "stdout",
     "output_type": "stream",
     "text": [
      "4\n",
      "['apple', 'cherry', 'orange', 'strawberry']\n",
      "['strawberry', 'apple', 'cherry', 'orange']\n",
      "['apple', 'cherry', 'orange', 'strawberry']\n",
      "1\n"
     ]
    }
   ],
   "source": [
    "# Built-in Functions and Methods\n",
    "\n",
    "# Use the len() function to print the length of the fruits list.\n",
    "print(len(fruits))\n",
    "# Use the sorted() function to print a sorted version of the fruits list without changing the original list.\n",
    "print(sorted(fruits))\n",
    "\"\"\" all strings are sorted alphabetically, and all numbers are sorted numerically.\"\"\"\n",
    "print(fruits) # see it didn't change the original list\n",
    "\n",
    "# Use the list.sort() method to sort the fruits list in place.\n",
    "fruits.sort()\n",
    "print(fruits) # see it did change the original list\n",
    "# Find the index of \"cherry\" in the fruits list using the list.index() method.\n",
    "fruits.index(\"cherry\")\n",
    "print(fruits.index(\"cherry\"))# to actually show the index"
   ]
  },
  {
   "cell_type": "markdown",
   "metadata": {},
   "source": [
    "# Working with API's \n",
    "\n"
   ]
  },
  {
   "cell_type": "code",
   "execution_count": 8,
   "metadata": {},
   "outputs": [],
   "source": [
    "# import the requests library to get data from the internet\n",
    "\n",
    "#pip install requests in terminal if you dont have it (its probably not there)\n",
    "# also make sure your kernel is set to your virtual environment\n",
    "import requests\n",
    "# import the json library to parse the data we get from the internet\n",
    "import json\n"
   ]
  },
  {
   "cell_type": "code",
   "execution_count": 9,
   "metadata": {},
   "outputs": [
    {
     "data": {
      "text/plain": [
       "<Response [200]>"
      ]
     },
     "execution_count": 9,
     "metadata": {},
     "output_type": "execute_result"
    }
   ],
   "source": [
    "# Use the requests library to send a GET request to the JSONPlaceholder API to retrieve a list of posts. The API endpoint is https://jsonplaceholder.typicode.com/posts.\n",
    "requests.get(\"https://jsonplaceholder.typicode.com/posts\")\n",
    "# Curl in your terminal is a good way to test if you are getting the right data... but not showing the same as lecture for some reason...\n",
    "#wget is another way to get data from the internet, but it saves it to a file "
   ]
  },
  {
   "cell_type": "code",
   "execution_count": 10,
   "metadata": {},
   "outputs": [
    {
     "name": "stdout",
     "output_type": "stream",
     "text": [
      "sunt aut facere repellat provident occaecati excepturi optio reprehenderit\n",
      "['sunt aut facere repellat provident occaecati excepturi optio reprehenderit', 'qui est esse', 'ea molestias quasi exercitationem repellat qui ipsa sit aut', 'eum et est occaecati', 'nesciunt quas odio', 'dolorem eum magni eos aperiam quia', 'magnam facilis autem', 'dolorem dolore est ipsam', 'nesciunt iure omnis dolorem tempora et accusantium', 'optio molestias id quia eum', 'et ea vero quia laudantium autem', 'in quibusdam tempore odit est dolorem', 'dolorum ut in voluptas mollitia et saepe quo animi', 'voluptatem eligendi optio', 'eveniet quod temporibus', 'sint suscipit perspiciatis velit dolorum rerum ipsa laboriosam odio', 'fugit voluptas sed molestias voluptatem provident', 'voluptate et itaque vero tempora molestiae', 'adipisci placeat illum aut reiciendis qui', 'doloribus ad provident suscipit at', 'asperiores ea ipsam voluptatibus modi minima quia sint', 'dolor sint quo a velit explicabo quia nam', 'maxime id vitae nihil numquam', 'autem hic labore sunt dolores incidunt', 'rem alias distinctio quo quis', 'est et quae odit qui non', 'quasi id et eos tenetur aut quo autem', 'delectus ullam et corporis nulla voluptas sequi', 'iusto eius quod necessitatibus culpa ea', 'a quo magni similique perferendis', 'ullam ut quidem id aut vel consequuntur', 'doloremque illum aliquid sunt', 'qui explicabo molestiae dolorem', 'magnam ut rerum iure', 'id nihil consequatur molestias animi provident', 'fuga nam accusamus voluptas reiciendis itaque', 'provident vel ut sit ratione est', 'explicabo et eos deleniti nostrum ab id repellendus', 'eos dolorem iste accusantium est eaque quam', 'enim quo cumque', 'non est facere', 'commodi ullam sint et excepturi error explicabo praesentium voluptas', 'eligendi iste nostrum consequuntur adipisci praesentium sit beatae perferendis', 'optio dolor molestias sit', 'ut numquam possimus omnis eius suscipit laudantium iure', 'aut quo modi neque nostrum ducimus', 'quibusdam cumque rem aut deserunt', 'ut voluptatem illum ea doloribus itaque eos', 'laborum non sunt aut ut assumenda perspiciatis voluptas', 'repellendus qui recusandae incidunt voluptates tenetur qui omnis exercitationem', 'soluta aliquam aperiam consequatur illo quis voluptas', 'qui enim et consequuntur quia animi quis voluptate quibusdam', 'ut quo aut ducimus alias', 'sit asperiores ipsam eveniet odio non quia', 'sit vel voluptatem et non libero', 'qui et at rerum necessitatibus', 'sed ab est est', 'voluptatum itaque dolores nisi et quasi', 'qui commodi dolor at maiores et quis id accusantium', 'consequatur placeat omnis quisquam quia reprehenderit fugit veritatis facere', 'voluptatem doloribus consectetur est ut ducimus', 'beatae enim quia vel', 'voluptas blanditiis repellendus animi ducimus error sapiente et suscipit', 'et fugit quas eum in in aperiam quod', 'consequatur id enim sunt et et', 'repudiandae ea animi iusto', 'aliquid eos sed fuga est maxime repellendus', 'odio quis facere architecto reiciendis optio', 'fugiat quod pariatur odit minima', 'voluptatem laborum magni', 'et iusto veniam et illum aut fuga', 'sint hic doloribus consequatur eos non id', 'consequuntur deleniti eos quia temporibus ab aliquid at', 'enim unde ratione doloribus quas enim ut sit sapiente', 'dignissimos eum dolor ut enim et delectus in', 'doloremque officiis ad et non perferendis', 'necessitatibus quasi exercitationem odio', 'quam voluptatibus rerum veritatis', 'pariatur consequatur quia magnam autem omnis non amet', 'labore in ex et explicabo corporis aut quas', 'tempora rem veritatis voluptas quo dolores vero', 'laudantium voluptate suscipit sunt enim enim', 'odit et voluptates doloribus alias odio et', 'optio ipsam molestias necessitatibus occaecati facilis veritatis dolores aut', 'dolore veritatis porro provident adipisci blanditiis et sunt', 'placeat quia et porro iste', 'nostrum quis quasi placeat', 'sapiente omnis fugit eos', 'sint soluta et vel magnam aut ut sed qui', 'ad iusto omnis odit dolor voluptatibus', 'aut amet sed', 'ratione ex tenetur perferendis', 'beatae soluta recusandae', 'qui qui voluptates illo iste minima', 'id minus libero illum nam ad officiis', 'quaerat velit veniam amet cupiditate aut numquam ut sequi', 'quas fugiat ut perspiciatis vero provident', 'laboriosam dolor voluptates', 'temporibus sit alias delectus eligendi possimus magni', 'at nam consequatur ea labore ea harum']\n"
     ]
    }
   ],
   "source": [
    "# Parse the JSON response and store it in a variable posts.\n",
    "# Note: We did not learn about JSON yet (This will be taught in more depth in our lesson on Dictionaries for now just think of it as a way to represent data.)\n",
    "api_data = requests.get(\"https://jsonplaceholder.typicode.com/posts\")\n",
    "\n",
    "# posts = json.loads(response.text) copilot answer.... interesting\n",
    "\n",
    "#convert api_data to a list of dictionaries using the json()\n",
    "api_data = api_data.json()\n",
    "\n",
    "\n",
    "#  Print the title of the first post in the posts list.\n",
    "    #remember lists of lists are accessed like this: list_name[index][index]\n",
    "first_post_title = api_data[0][\"title\"]\n",
    "print(first_post_title)\n",
    "\n",
    "\"\"\" a list of lists\"\"\"\n",
    "\n",
    "#printing api_data, you would need pandas to make it look nice\n",
    "\n",
    "# Create a list post_titles that contains the titles of all the posts.\n",
    "post_titles = [post[\"title\"] for post in api_data]\n",
    "print(post_titles)\n",
    "\n",
    "#what would this look without list comprehension?\n",
    "# post_titles = []\n",
    "# for post in api_data:\n",
    "#     post_titles.append(post[\"title\"])"
   ]
  },
  {
   "cell_type": "code",
   "execution_count": 15,
   "metadata": {},
   "outputs": [
    {
     "name": "stdout",
     "output_type": "stream",
     "text": [
      "the longest title: repellendus qui recusandae incidunt voluptates tenetur qui omnis exercitationem\n",
      "longest title's body: error suscipit maxime adipisci consequuntur recusandae\n",
      "voluptas eligendi et est et voluptates\n",
      "quia distinctio ab amet quaerat molestiae et vitae\n",
      "adipisci impedit sequi nesciunt quis consectetur\n"
     ]
    }
   ],
   "source": [
    "# Find the post with the longest title and print its title and body. \n",
    "#Print the titles of the first 5 posts using slicing. \n",
    "# Note: Copilot might try to fill in a lambda function for this task. Try to solve it without using a lambda function.\n",
    "longest_title = \"\"\n",
    "longest_body = \"\"\n",
    "for post in api_data: #for each post in the list of posts\n",
    "    if len(post[\"title\"]) > len(longest_title): #if the length of the title is greater than the length of the longest title\n",
    "        longest_title = post[\"title\"] #then the longest title is the title of the post\n",
    "        longest_body = post[\"body\"] #and the longest body is the body of the post\n",
    "\n",
    "print(\"Title: \" + longest_title) \n",
    "print(\"Body: \" + longest_body) \n",
    "# This is a very common question for interviews(data analyst), so make sure you understand how to solve it.\n"
   ]
  },
  {
   "cell_type": "code",
   "execution_count": 16,
   "metadata": {},
   "outputs": [
    {
     "name": "stdout",
     "output_type": "stream",
     "text": [
      "(1, 'nesciunt quas odio', 'repudiandae veniam quaerat sunt sed\\nalias aut fugiat sit autem sed est\\nvoluptatem omnis possimus esse voluptatibus quis\\nest aut tenetur dolor neque')\n"
     ]
    }
   ],
   "source": [
    "# Create a tuple post_info that contains the userId, title, and body of the fifth post in the list.\n",
    "post_info = (api_data[4][\"userId\"], api_data[4][\"title\"], api_data[4][\"body\"])\n",
    "#Tuples are made with parentheses ()\n",
    "#Tuples are indexed like lists, square brackets []\n",
    "#Lists are made with square brackets []\n",
    "print(post_info)"
   ]
  }
 ],
 "metadata": {
  "kernelspec": {
   "display_name": "venv",
   "language": "python",
   "name": "python3"
  },
  "language_info": {
   "codemirror_mode": {
    "name": "ipython",
    "version": 3
   },
   "file_extension": ".py",
   "mimetype": "text/x-python",
   "name": "python",
   "nbconvert_exporter": "python",
   "pygments_lexer": "ipython3",
   "version": "3.12.0"
  }
 },
 "nbformat": 4,
 "nbformat_minor": 2
}
